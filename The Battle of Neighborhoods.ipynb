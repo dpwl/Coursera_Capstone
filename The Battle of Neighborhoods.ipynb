{
 "cells": [
  {
   "cell_type": "markdown",
   "metadata": {},
   "source": [
    "# Sophisticated Urban Planning with Machine Learning\n",
    "- __Project Name__: Capstone Project - The Battle of Neighborhoods\n",
    "- __Course Name__: IBM Data Science Professional Certificate\n",
    "- __Author__: Yeji Soh"
   ]
  },
  {
   "cell_type": "markdown",
   "metadata": {},
   "source": [
    "## 1. Introduction"
   ]
  },
  {
   "cell_type": "markdown",
   "metadata": {},
   "source": [
    "__Urban Planning__ has been given a big importance for any city in order to have orderly development in urban and suburb areas. It includes such techniques as predicting population growth, zoning, geographic mapping/analysis, and identifying the way that land has been used.(source: https://en.wikipedia.org/wiki/Urban_planning)<br>\n",
    "__Clustering__, as one of the most popular unsupervised Machine Learning concepts, is widely used to divide data points into a certain number of groups in the way that data points in the same groups, i.e. clusters, share more similar attributes compared to others in different groups.<br>\n",
    "In the sense that urban planning requires various segmenting studies by the extent of development, clustering will be a good method to be used in terms of designing and planning neighborhoods.<br>\n",
    "This study is focused on city of Calgary, which is where author lives currently. This study can be used for\n",
    "- urban planners, by suggesting how to have impartial development for each neighborhood,\n",
    "- potential business owners, by suggesting where to avoid, e.g. supersaturated area, and where to target to open their business."
   ]
  },
  {
   "cell_type": "markdown",
   "metadata": {},
   "source": [
    "## 2. Data"
   ]
  },
  {
   "cell_type": "markdown",
   "metadata": {},
   "source": [
    "The official website of City of Calgary kindly made their census data[1](https://data.calgary.ca/Demographics/Census-by-Community-2019/rkfr-buzb) open to public. This census data includes the number of dwelling units and population for each unit, where it belongs to a certain sector (e.g. Centre, East, West, North, South, NE, NW, SE, SW) and is categorized as either 'built-out', 'developing', 'non-residential' or 'N/A' depending on the yearly development.\n",
    "To start with, the API call was made to access to the most recent census data . A 'requests' module of Python is used and the data is received in json format. Not all the columns of data is necessary, so data cleaning should be carried out in here to have only essential data in a data frame.\n",
    "Next, using the name of neighborhood, the latitude and longitude for each neighborhood will be obtained with geocoder package in Python. These geographical data will be used in making a API call to Four Square to get nearby venues to understand what kind of business is needed for potential developing neighborhoods. For the data analysis, a variety of data science techniques are to be utilized, such as data wrangling, exploratory data analysis and K-Means Clustering."
   ]
  },
  {
   "cell_type": "code",
   "execution_count": null,
   "metadata": {},
   "outputs": [],
   "source": []
  }
 ],
 "metadata": {
  "kernelspec": {
   "display_name": "Python 3",
   "language": "python",
   "name": "python3"
  },
  "language_info": {
   "codemirror_mode": {
    "name": "ipython",
    "version": 3
   },
   "file_extension": ".py",
   "mimetype": "text/x-python",
   "name": "python",
   "nbconvert_exporter": "python",
   "pygments_lexer": "ipython3",
   "version": "3.7.6"
  }
 },
 "nbformat": 4,
 "nbformat_minor": 4
}
